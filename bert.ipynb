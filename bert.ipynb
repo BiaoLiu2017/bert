{
 "cells": [
  {
   "cell_type": "code",
   "execution_count": 74,
   "id": "928c7604-a018-4f6d-953d-9e0a9110503d",
   "metadata": {
    "execution": {
     "iopub.execute_input": "2022-08-09T02:51:11.208965Z",
     "iopub.status.busy": "2022-08-09T02:51:11.208465Z",
     "iopub.status.idle": "2022-08-09T02:51:11.212488Z",
     "shell.execute_reply": "2022-08-09T02:51:11.211762Z",
     "shell.execute_reply.started": "2022-08-09T02:51:11.208937Z"
    }
   },
   "outputs": [],
   "source": [
    "import os"
   ]
  },
  {
   "cell_type": "code",
   "execution_count": 79,
   "id": "a65d6496-cee3-4646-80e1-9f5de9d323e6",
   "metadata": {
    "execution": {
     "iopub.execute_input": "2022-08-09T02:54:13.902253Z",
     "iopub.status.busy": "2022-08-09T02:54:13.901877Z",
     "iopub.status.idle": "2022-08-09T02:54:13.906220Z",
     "shell.execute_reply": "2022-08-09T02:54:13.905429Z",
     "shell.execute_reply.started": "2022-08-09T02:54:13.902225Z"
    },
    "tags": []
   },
   "outputs": [],
   "source": [
    "from run_classifier import DataProcessor, file_based_input_fn_builder"
   ]
  },
  {
   "cell_type": "code",
   "execution_count": 75,
   "id": "fca6ad19-a1fe-4e4e-b16e-f0764be2cce4",
   "metadata": {
    "execution": {
     "iopub.execute_input": "2022-08-09T02:51:16.364149Z",
     "iopub.status.busy": "2022-08-09T02:51:16.363516Z",
     "iopub.status.idle": "2022-08-09T02:51:16.367655Z",
     "shell.execute_reply": "2022-08-09T02:51:16.366933Z",
     "shell.execute_reply.started": "2022-08-09T02:51:16.364120Z"
    },
    "tags": []
   },
   "outputs": [],
   "source": [
    "train_file = os.path.join('/data/liubiao/PTMs/bert/finetuning_dir/mrpc_output', \"train.tf_record\")"
   ]
  },
  {
   "cell_type": "code",
   "execution_count": 80,
   "id": "4fe403bf-fc6c-489a-898b-b24d74b75dec",
   "metadata": {
    "execution": {
     "iopub.execute_input": "2022-08-09T02:54:24.717381Z",
     "iopub.status.busy": "2022-08-09T02:54:24.716743Z",
     "iopub.status.idle": "2022-08-09T02:54:24.722279Z",
     "shell.execute_reply": "2022-08-09T02:54:24.721512Z",
     "shell.execute_reply.started": "2022-08-09T02:54:24.717351Z"
    }
   },
   "outputs": [
    {
     "name": "stdout",
     "output_type": "stream",
     "text": [
      "WARNING:tensorflow:From /data/liubiao/PTMs/bert/run_classifier.py:516: The name tf.FixedLenFeature is deprecated. Please use tf.io.FixedLenFeature instead.\n",
      "\n"
     ]
    }
   ],
   "source": [
    "train_input_fn = file_based_input_fn_builder(\n",
    "        input_file=train_file,\n",
    "        seq_length=128,\n",
    "        is_training=True,\n",
    "        drop_remainder=True)"
   ]
  },
  {
   "cell_type": "code",
   "execution_count": 83,
   "id": "50d8a9bf-e2cb-46d6-9815-3a5b9306f24b",
   "metadata": {
    "execution": {
     "iopub.execute_input": "2022-08-10T03:57:12.319300Z",
     "iopub.status.busy": "2022-08-10T03:57:12.318836Z",
     "iopub.status.idle": "2022-08-10T03:57:12.323189Z",
     "shell.execute_reply": "2022-08-10T03:57:12.322282Z",
     "shell.execute_reply.started": "2022-08-10T03:57:12.319270Z"
    }
   },
   "outputs": [],
   "source": [
    "import tensorflow as tf"
   ]
  },
  {
   "cell_type": "code",
   "execution_count": null,
   "id": "19e92d80-916c-46b9-a18a-160ffc3ab43e",
   "metadata": {},
   "outputs": [],
   "source": []
  },
  {
   "cell_type": "code",
   "execution_count": null,
   "id": "4ad407c4-4722-4e22-8e80-c1105bc7111c",
   "metadata": {},
   "outputs": [],
   "source": [
    "get_shape_list(tensor, expected_rank=None, name=None)"
   ]
  },
  {
   "cell_type": "code",
   "execution_count": 82,
   "id": "334ab3dd-6295-4a26-a1fc-de6cc28f5061",
   "metadata": {
    "execution": {
     "iopub.execute_input": "2022-08-09T02:54:34.190474Z",
     "iopub.status.busy": "2022-08-09T02:54:34.189928Z",
     "iopub.status.idle": "2022-08-09T02:54:34.205784Z",
     "shell.execute_reply": "2022-08-09T02:54:34.204813Z",
     "shell.execute_reply.started": "2022-08-09T02:54:34.190446Z"
    },
    "tags": []
   },
   "outputs": [
    {
     "ename": "TypeError",
     "evalue": "input_fn() missing 1 required positional argument: 'params'",
     "output_type": "error",
     "traceback": [
      "\u001b[0;31m---------------------------------------------------------------------------\u001b[0m",
      "\u001b[0;31mTypeError\u001b[0m                                 Traceback (most recent call last)",
      "\u001b[0;32m/tmp/ipykernel_2976/2882641586.py\u001b[0m in \u001b[0;36m<module>\u001b[0;34m\u001b[0m\n\u001b[0;32m----> 1\u001b[0;31m \u001b[0mtrain_input_fn\u001b[0m\u001b[0;34m(\u001b[0m\u001b[0;34m)\u001b[0m\u001b[0;34m\u001b[0m\u001b[0;34m\u001b[0m\u001b[0m\n\u001b[0m",
      "\u001b[0;31mTypeError\u001b[0m: input_fn() missing 1 required positional argument: 'params'"
     ]
    }
   ],
   "source": [
    "train_input_fn()"
   ]
  },
  {
   "cell_type": "code",
   "execution_count": 89,
   "id": "1324d21f-002c-46bf-b649-8d2c6eb509e6",
   "metadata": {
    "execution": {
     "iopub.execute_input": "2022-08-11T03:00:43.320212Z",
     "iopub.status.busy": "2022-08-11T03:00:43.319588Z",
     "iopub.status.idle": "2022-08-11T03:00:43.325641Z",
     "shell.execute_reply": "2022-08-11T03:00:43.324843Z",
     "shell.execute_reply.started": "2022-08-11T03:00:43.320176Z"
    }
   },
   "outputs": [
    {
     "data": {
      "text/plain": [
       "64.0"
      ]
     },
     "execution_count": 89,
     "metadata": {},
     "output_type": "execute_result"
    }
   ],
   "source": [
    "768/12"
   ]
  },
  {
   "cell_type": "code",
   "execution_count": 4,
   "id": "619733b2-6b34-465a-82bf-ce667a39286b",
   "metadata": {
    "execution": {
     "iopub.execute_input": "2022-08-05T03:21:33.767404Z",
     "iopub.status.busy": "2022-08-05T03:21:33.766918Z",
     "iopub.status.idle": "2022-08-05T03:21:33.801334Z",
     "shell.execute_reply": "2022-08-05T03:21:33.800677Z",
     "shell.execute_reply.started": "2022-08-05T03:21:33.767374Z"
    },
    "tags": []
   },
   "outputs": [
    {
     "data": {
      "text/plain": [
       "['\\ufeffQuality', '#1 ID', '#2 ID', '#1 String', '#2 String']"
      ]
     },
     "execution_count": 4,
     "metadata": {},
     "output_type": "execute_result"
    }
   ],
   "source": [
    "DataProcessor._read_tsv('../glue_data/MRPC/train.tsv')[0]"
   ]
  },
  {
   "cell_type": "code",
   "execution_count": 5,
   "id": "c4acac9a-1f2a-4ba5-b23c-62675cc7329e",
   "metadata": {
    "execution": {
     "iopub.execute_input": "2022-08-05T03:22:12.074859Z",
     "iopub.status.busy": "2022-08-05T03:22:12.074508Z",
     "iopub.status.idle": "2022-08-05T03:22:12.078601Z",
     "shell.execute_reply": "2022-08-05T03:22:12.077912Z",
     "shell.execute_reply.started": "2022-08-05T03:22:12.074831Z"
    }
   },
   "outputs": [],
   "source": [
    "import re"
   ]
  },
  {
   "cell_type": "code",
   "execution_count": 6,
   "id": "17b92c55-436e-41aa-87a5-bab7cc9c6153",
   "metadata": {
    "execution": {
     "iopub.execute_input": "2022-08-05T03:22:26.972459Z",
     "iopub.status.busy": "2022-08-05T03:22:26.972058Z",
     "iopub.status.idle": "2022-08-05T03:22:26.977431Z",
     "shell.execute_reply": "2022-08-05T03:22:26.976788Z",
     "shell.execute_reply.started": "2022-08-05T03:22:26.972426Z"
    }
   },
   "outputs": [],
   "source": [
    "pattern_zh = re.compile(r'[\\u4E00-\\u9FFF]+', re.UNICODE)"
   ]
  },
  {
   "cell_type": "code",
   "execution_count": 8,
   "id": "79fc24b7-5c7f-4d78-8419-6d4972c27f75",
   "metadata": {
    "execution": {
     "iopub.execute_input": "2022-08-05T03:24:27.827481Z",
     "iopub.status.busy": "2022-08-05T03:24:27.826885Z",
     "iopub.status.idle": "2022-08-05T03:24:27.852318Z",
     "shell.execute_reply": "2022-08-05T03:24:27.851780Z",
     "shell.execute_reply.started": "2022-08-05T03:24:27.827454Z"
    },
    "tags": []
   },
   "outputs": [],
   "source": [
    "with open('/data/liubiao/PTMs/bert/models/uncased_L-12_H-768_A-12/vocab.txt') as f:\n",
    "    num = 0\n",
    "    for l in f:\n",
    "        l = l.strip('\\n')\n",
    "        if pattern_zh.search(l):\n",
    "            num += 1\n",
    "            "
   ]
  },
  {
   "cell_type": "code",
   "execution_count": 9,
   "id": "87fbc43a-7505-48e5-ae35-988cf6fcdb18",
   "metadata": {
    "execution": {
     "iopub.execute_input": "2022-08-05T03:24:29.474118Z",
     "iopub.status.busy": "2022-08-05T03:24:29.473508Z",
     "iopub.status.idle": "2022-08-05T03:24:29.478489Z",
     "shell.execute_reply": "2022-08-05T03:24:29.477857Z",
     "shell.execute_reply.started": "2022-08-05T03:24:29.474091Z"
    }
   },
   "outputs": [
    {
     "data": {
      "text/plain": [
       "488"
      ]
     },
     "execution_count": 9,
     "metadata": {},
     "output_type": "execute_result"
    }
   ],
   "source": [
    "num"
   ]
  },
  {
   "cell_type": "code",
   "execution_count": 11,
   "id": "aedee5c5-938a-41d1-99ed-8e8e2fc91273",
   "metadata": {
    "execution": {
     "iopub.execute_input": "2022-08-05T03:31:16.235362Z",
     "iopub.status.busy": "2022-08-05T03:31:16.234774Z",
     "iopub.status.idle": "2022-08-05T03:31:16.238310Z",
     "shell.execute_reply": "2022-08-05T03:31:16.237677Z",
     "shell.execute_reply.started": "2022-08-05T03:31:16.235335Z"
    }
   },
   "outputs": [],
   "source": []
  },
  {
   "cell_type": "code",
   "execution_count": 19,
   "id": "4e2d9cd3-6c0c-459c-a2df-2eaaab08c65f",
   "metadata": {
    "execution": {
     "iopub.execute_input": "2022-08-05T03:36:35.392063Z",
     "iopub.status.busy": "2022-08-05T03:36:35.391582Z",
     "iopub.status.idle": "2022-08-05T03:36:35.396266Z",
     "shell.execute_reply": "2022-08-05T03:36:35.395655Z",
     "shell.execute_reply.started": "2022-08-05T03:36:35.392038Z"
    }
   },
   "outputs": [
    {
     "data": {
      "text/plain": [
       "OrderedDict([('2', 1), ('1', 3), ('3', 2)])"
      ]
     },
     "execution_count": 19,
     "metadata": {},
     "output_type": "execute_result"
    }
   ],
   "source": [
    "c"
   ]
  },
  {
   "cell_type": "code",
   "execution_count": 12,
   "id": "1e73887a-28d2-47d8-92a5-3e06177c6e9f",
   "metadata": {
    "execution": {
     "iopub.execute_input": "2022-08-05T03:31:16.548984Z",
     "iopub.status.busy": "2022-08-05T03:31:16.548419Z",
     "iopub.status.idle": "2022-08-05T03:31:16.551987Z",
     "shell.execute_reply": "2022-08-05T03:31:16.551369Z",
     "shell.execute_reply.started": "2022-08-05T03:31:16.548956Z"
    },
    "tags": []
   },
   "outputs": [],
   "source": []
  },
  {
   "cell_type": "code",
   "execution_count": 13,
   "id": "d74abd4d-7e90-4ec3-b456-3c5cce49e87f",
   "metadata": {
    "execution": {
     "iopub.execute_input": "2022-08-05T03:31:17.676112Z",
     "iopub.status.busy": "2022-08-05T03:31:17.675484Z",
     "iopub.status.idle": "2022-08-05T03:31:17.681000Z",
     "shell.execute_reply": "2022-08-05T03:31:17.680332Z",
     "shell.execute_reply.started": "2022-08-05T03:31:17.676083Z"
    }
   },
   "outputs": [
    {
     "data": {
      "text/plain": [
       "OrderedDict([('a', None), ('b', None), ('c', None), ('d', None), ('e', None)])"
      ]
     },
     "execution_count": 13,
     "metadata": {},
     "output_type": "execute_result"
    }
   ],
   "source": [
    "d"
   ]
  },
  {
   "cell_type": "code",
   "execution_count": 14,
   "id": "6593d4b1-90ad-4638-aa28-3a4527618db7",
   "metadata": {
    "execution": {
     "iopub.execute_input": "2022-08-05T03:31:42.853281Z",
     "iopub.status.busy": "2022-08-05T03:31:42.852721Z",
     "iopub.status.idle": "2022-08-05T03:31:42.857853Z",
     "shell.execute_reply": "2022-08-05T03:31:42.857145Z",
     "shell.execute_reply.started": "2022-08-05T03:31:42.853250Z"
    }
   },
   "outputs": [
    {
     "data": {
      "text/plain": [
       "'abcde'"
      ]
     },
     "execution_count": 14,
     "metadata": {},
     "output_type": "execute_result"
    }
   ],
   "source": []
  },
  {
   "cell_type": "code",
   "execution_count": 15,
   "id": "dc482f4f-3067-432f-9d50-711c03042767",
   "metadata": {
    "execution": {
     "iopub.execute_input": "2022-08-05T03:32:55.916780Z",
     "iopub.status.busy": "2022-08-05T03:32:55.916440Z",
     "iopub.status.idle": "2022-08-05T03:32:55.920174Z",
     "shell.execute_reply": "2022-08-05T03:32:55.919603Z",
     "shell.execute_reply.started": "2022-08-05T03:32:55.916754Z"
    }
   },
   "outputs": [],
   "source": []
  },
  {
   "cell_type": "code",
   "execution_count": 17,
   "id": "83d05b9c-86f9-4b39-90cc-c497ce020355",
   "metadata": {
    "execution": {
     "iopub.execute_input": "2022-08-05T03:33:21.628145Z",
     "iopub.status.busy": "2022-08-05T03:33:21.627495Z",
     "iopub.status.idle": "2022-08-05T03:33:21.631382Z",
     "shell.execute_reply": "2022-08-05T03:33:21.630729Z",
     "shell.execute_reply.started": "2022-08-05T03:33:21.628115Z"
    },
    "tags": []
   },
   "outputs": [],
   "source": [
    "\n"
   ]
  },
  {
   "cell_type": "code",
   "execution_count": 18,
   "id": "93758285-b139-4980-808f-886b811b6e88",
   "metadata": {
    "execution": {
     "iopub.execute_input": "2022-08-05T03:33:25.882059Z",
     "iopub.status.busy": "2022-08-05T03:33:25.881411Z",
     "iopub.status.idle": "2022-08-05T03:33:25.886889Z",
     "shell.execute_reply": "2022-08-05T03:33:25.886372Z",
     "shell.execute_reply.started": "2022-08-05T03:33:25.881969Z"
    }
   },
   "outputs": [
    {
     "data": {
      "text/plain": [
       "'213'"
      ]
     },
     "execution_count": 18,
     "metadata": {},
     "output_type": "execute_result"
    }
   ],
   "source": []
  },
  {
   "cell_type": "code",
   "execution_count": null,
   "id": "001289b6-2a00-4ecf-8af9-e333ec14789d",
   "metadata": {},
   "outputs": [],
   "source": []
  }
 ],
 "metadata": {
  "kernelspec": {
   "display_name": "dl",
   "language": "python",
   "name": "dl"
  },
  "language_info": {
   "codemirror_mode": {
    "name": "ipython",
    "version": 3
   },
   "file_extension": ".py",
   "mimetype": "text/x-python",
   "name": "python",
   "nbconvert_exporter": "python",
   "pygments_lexer": "ipython3",
   "version": "3.7.11"
  }
 },
 "nbformat": 4,
 "nbformat_minor": 5
}
